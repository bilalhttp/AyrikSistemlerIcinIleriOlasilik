{
  "nbformat": 4,
  "nbformat_minor": 0,
  "metadata": {
    "colab": {
      "name": "Kombinasyon.ipynb",
      "provenance": [],
      "authorship_tag": "ABX9TyO6oZd2Xxrc00qeEm3XBYNs",
      "include_colab_link": true
    },
    "kernelspec": {
      "name": "python3",
      "display_name": "Python 3"
    },
    "language_info": {
      "name": "python"
    }
  },
  "cells": [
    {
      "cell_type": "markdown",
      "metadata": {
        "id": "view-in-github",
        "colab_type": "text"
      },
      "source": [
        "<a href=\"https://colab.research.google.com/github/bilalhttp/AyrikSistemlerIcinIleriOlasilik/blob/main/Kombinasyon.ipynb\" target=\"_parent\"><img src=\"https://colab.research.google.com/assets/colab-badge.svg\" alt=\"Open In Colab\"/></a>"
      ]
    },
    {
      "cell_type": "markdown",
      "source": [
        "Girilen toplam öğrenci sayısından, istenen öğrenci sayısı kadar kaç farklı şekilde  öğrenci grubu oluşturulur ?"
      ],
      "metadata": {
        "id": "JEwjWjV-leAP"
      }
    },
    {
      "cell_type": "code",
      "source": [
        "def factorial(num):\n",
        "  fact = 1\n",
        "  if num < 0:\n",
        "    return print(\"Sorry, factorial does not exist for negative numbers\")\n",
        "  elif num == 0:\n",
        "   return print(\"The factorial of 0 is 1\")\n",
        "  else:\n",
        "   for i in range(1,num + 1):\n",
        "       fact = fact*i\n",
        "  return fact"
      ],
      "metadata": {
        "id": "yCchCBnAl8j8"
      },
      "execution_count": 10,
      "outputs": []
    },
    {
      "cell_type": "code",
      "source": [
        "def calculateCombination(allStudentCount, groupedCount):\n",
        "\n",
        "  if(allStudentCount < groupedCount):\n",
        "    return print(\"allStudentCount must be greater than groupedCount\")\n",
        "  \n",
        "  elif(allStudentCount == groupedCount):\n",
        "    return 1\n",
        "\n",
        "  else:\n",
        "    x = factorial(allStudentCount)\n",
        "    y = factorial(groupedCount)\n",
        "    diff = factorial(allStudentCount - groupedCount)\n",
        "    return int(x/(y*diff))\n"
      ],
      "metadata": {
        "id": "J_8D6qZCmTGD"
      },
      "execution_count": 17,
      "outputs": []
    },
    {
      "cell_type": "code",
      "source": [
        "calculateCombination(7,5)"
      ],
      "metadata": {
        "colab": {
          "base_uri": "https://localhost:8080/"
        },
        "id": "nmcKtGcKmXHa",
        "outputId": "a6483138-d5f3-4062-ebc9-26f39250d5f4"
      },
      "execution_count": 20,
      "outputs": [
        {
          "output_type": "execute_result",
          "data": {
            "text/plain": [
              "21"
            ]
          },
          "metadata": {},
          "execution_count": 20
        }
      ]
    },
    {
      "cell_type": "code",
      "source": [
        ""
      ],
      "metadata": {
        "id": "ltTRggNDoZaT"
      },
      "execution_count": null,
      "outputs": []
    }
  ]
}