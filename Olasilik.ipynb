{
  "nbformat": 4,
  "nbformat_minor": 0,
  "metadata": {
    "colab": {
      "name": "Olasilik.ipynb",
      "provenance": [],
      "authorship_tag": "ABX9TyNcbthX6ilmplxcEaRfMODm",
      "include_colab_link": true
    },
    "kernelspec": {
      "name": "python3",
      "display_name": "Python 3"
    },
    "language_info": {
      "name": "python"
    }
  },
  "cells": [
    {
      "cell_type": "markdown",
      "metadata": {
        "id": "view-in-github",
        "colab_type": "text"
      },
      "source": [
        "<a href=\"https://colab.research.google.com/github/bilalhttp/AyrikSistemlerIcinIleriOlasilik/blob/main/Olasilik.ipynb\" target=\"_parent\"><img src=\"https://colab.research.google.com/assets/colab-badge.svg\" alt=\"Open In Colab\"/></a>"
      ]
    },
    {
      "cell_type": "markdown",
      "source": [
        "# **Temel Olasılık Örneği**"
      ],
      "metadata": {
        "id": "8jeSOw5EDblz"
      }
    },
    {
      "cell_type": "markdown",
      "source": [
        "3 yüzü sarı, 2 yüzü mor, 1 yüzü lacivert olan bir zar mevcut."
      ],
      "metadata": {
        "id": "u_3lst_rDvLc"
      }
    },
    {
      "cell_type": "markdown",
      "source": [
        "**Soru 1:**"
      ],
      "metadata": {
        "id": "3e4ISyqjDhce"
      }
    },
    {
      "cell_type": "markdown",
      "source": [
        "Ardarda 2 kez atılıyor. İkisininde üst yüzüne sarı gelme olasılığı nedir ?"
      ],
      "metadata": {
        "id": "yJ2giEp8Ga42"
      }
    },
    {
      "cell_type": "markdown",
      "source": [
        "**Çözüm 1:**"
      ],
      "metadata": {
        "id": "OLVTGrhVDyT0"
      }
    },
    {
      "cell_type": "markdown",
      "source": [
        "Olaylar bağımsız olduğundan\n",
        "\n",
        "1.kez sarı gelmesi olayı:\n",
        "\n",
        "P(A) = 3/6 = 1/2\n",
        "\n",
        "2.kez sarı gelmesi olayı:\n",
        "\n",
        "P(B) = 3/6 = 1/2 olduğundan\n",
        "\n",
        "p(A∩B) = P(A).P(B) = 1/2.1/2 = 1/4 bulunur.\n"
      ],
      "metadata": {
        "id": "uNOFRyLLD43R"
      }
    },
    {
      "cell_type": "code",
      "source": [
        "S={1,2,3,4,5,6}\n",
        "Sari={1,2,3}\n",
        "Mor={4,5}\n",
        "Lacivert={6}\n",
        "\n",
        "nS=len(S)\n",
        "nSari=len(Sari)\n",
        "nMor=len(Mor)\n",
        "nLacivert=len(Lacivert)\n",
        "\n",
        "def P_Sari():\n",
        "  return nSari/nS\n",
        " \n",
        "def P_Mor():\n",
        "  return nMor/nS\n",
        " \n",
        "def P_Lacivert():\n",
        "  return nLacivert/nS\n",
        "\n",
        "\n",
        "print(\"\\n P(Sari) ∩ P(Sari) = \",P_Sari()* P_Sari())\n"
      ],
      "metadata": {
        "colab": {
          "base_uri": "https://localhost:8080/"
        },
        "id": "tP82pX2tEqYp",
        "outputId": "4f69dcaa-d21f-4841-d31e-1f934a755fc9"
      },
      "execution_count": 12,
      "outputs": [
        {
          "output_type": "stream",
          "name": "stdout",
          "text": [
            "\n",
            " P(Sari) ∩ P(Sari) =  0.25\n"
          ]
        }
      ]
    },
    {
      "cell_type": "markdown",
      "source": [
        "**Soru 2:**"
      ],
      "metadata": {
        "id": "4I9kTdoIGn4o"
      }
    },
    {
      "cell_type": "markdown",
      "source": [
        "Ardarda 3 kez atılıyor. Üst yüzüne sırayla lacivert,mor ve sarı gelme olasılığı nedir ?"
      ],
      "metadata": {
        "id": "jsw-1tvBMKhC"
      }
    },
    {
      "cell_type": "markdown",
      "source": [
        "**Çözüm 2:**"
      ],
      "metadata": {
        "id": "63sdTPlEMUWi"
      }
    },
    {
      "cell_type": "markdown",
      "source": [
        "Olaylar bağımsız olduğundan\n",
        "\n",
        "1.atışta lacivert gelmesi olayı:\n",
        "P(A) = 1/6\n",
        "\n",
        "2.atışta mor gelmesi olayı:\n",
        "P(B) = 2/6 = 1/3\n",
        "\n",
        "3.atışta sarı gelmesi olayı:\n",
        "P(B) = 3/6 = 1/2 olduğundan\n",
        "\n",
        "p(A∩B∩C) = P(A).P(B).P(C) = 1/6 . 1/3 . 1/2 = 1/36 bulunur."
      ],
      "metadata": {
        "id": "pNsoWNoGMYVZ"
      }
    },
    {
      "cell_type": "code",
      "source": [
        "print(\"\\n P(Lacivert) ∩ P(Mor) ∩ P(Sari) = \",P_Lacivert()* P_Mor() * P_Sari())"
      ],
      "metadata": {
        "colab": {
          "base_uri": "https://localhost:8080/"
        },
        "id": "ogWdTZ2nM2DP",
        "outputId": "f6ee7729-337e-4f0b-a0df-92dfc5205845"
      },
      "execution_count": 13,
      "outputs": [
        {
          "output_type": "stream",
          "name": "stdout",
          "text": [
            "\n",
            " P(Lacivert) ∩ P(Mor) ∩ P(Sari) =  0.027777777777777776\n"
          ]
        }
      ]
    },
    {
      "cell_type": "code",
      "source": [
        ""
      ],
      "metadata": {
        "id": "SvCi4XKRM_5Q"
      },
      "execution_count": null,
      "outputs": []
    }
  ]
}