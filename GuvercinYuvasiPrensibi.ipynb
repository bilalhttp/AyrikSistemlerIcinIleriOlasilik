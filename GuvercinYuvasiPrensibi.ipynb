{
  "cells": [
    {
      "cell_type": "markdown",
      "metadata": {
        "id": "view-in-github",
        "colab_type": "text"
      },
      "source": [
        "<a href=\"https://colab.research.google.com/github/bilalhttp/AyrikSistemlerIcinIleriOlasilik/blob/main/GuvercinYuvasiPrensibi.ipynb\" target=\"_parent\"><img src=\"https://colab.research.google.com/assets/colab-badge.svg\" alt=\"Open In Colab\"/></a>"
      ]
    },
    {
      "cell_type": "markdown",
      "source": [
        "# Güvercin Yuvası Prensibi"
      ],
      "metadata": {
        "id": "Na7pFOsbjE1O"
      }
    },
    {
      "cell_type": "code",
      "source": [
        "# Kırmızı, Yeşil, Mavi, Sarı ve Beyaz renkli topların bulunduğu bir torbadan belirtilen sayı kadar aynı renkte top elde edebilmek için \n",
        "# en az kaç top çekilmesi gerektiğini bulan fonksiyon\n",
        "\n",
        "def pigeOnHole(redBallCount, greenBallCount, blueBallCount, yellowBallCount, whiteBallCount, sameBallCount):\n",
        "  aboveSameBallCount = 0\n",
        "  if(sameBallCount > redBallCount and sameBallCount > yellowBallCount and sameBallCount > greenBallCount and sameBallCount > whiteBallCount and sameBallCount > blueBallCount):\n",
        "    return 0;\n",
        "  else:\n",
        "  \n",
        "    if(sameBallCount > redBallCount):\n",
        "      aboveSameBallCount += redBallCount\n",
        "    else:\n",
        "      aboveSameBallCount += sameBallCount - 1\n",
        "   \n",
        "    if(sameBallCount > yellowBallCount):\n",
        "      aboveSameBallCount += yellowBallCount\n",
        "    else:\n",
        "      aboveSameBallCount += sameBallCount - 1\n",
        "   \n",
        "    if(sameBallCount > greenBallCount):\n",
        "      aboveSameBallCount += greenBallCount\n",
        "    else:\n",
        "      aboveSameBallCount += sameBallCount - 1\n",
        "    \n",
        "    if(sameBallCount > whiteBallCount):\n",
        "      aboveSameBallCount += whiteBallCount\n",
        "    else:\n",
        "      aboveSameBallCount += sameBallCount - 1\n",
        "\n",
        "    if(sameBallCount > blueBallCount):\n",
        "      aboveSameBallCount += blueBallCount\n",
        "    else:\n",
        "      aboveSameBallCount += sameBallCount - 1\n",
        "\n",
        "    aboveSameBallCount += 1\n",
        "   \n",
        "    return aboveSameBallCount;\n",
        "  \n"
      ],
      "metadata": {
        "id": "KzJFe-WOZjrm"
      },
      "execution_count": null,
      "outputs": []
    },
    {
      "cell_type": "code",
      "source": [
        "pigeOnHole(6, 8, 10, 12, 15, 9)"
      ],
      "metadata": {
        "id": "pSknLTmvdgo1",
        "outputId": "06ba9ca7-b261-4bd3-d03d-2153cc048266",
        "colab": {
          "base_uri": "https://localhost:8080/"
        }
      },
      "execution_count": null,
      "outputs": [
        {
          "output_type": "execute_result",
          "data": {
            "text/plain": [
              "39"
            ]
          },
          "metadata": {},
          "execution_count": 13
        }
      ]
    },
    {
      "cell_type": "code",
      "source": [
        ""
      ],
      "metadata": {
        "id": "cj3-5d0JezTq"
      },
      "execution_count": null,
      "outputs": []
    }
  ],
  "metadata": {
    "colab": {
      "collapsed_sections": [],
      "name": "GuvercinYuvasiPrensibi",
      "toc_visible": true,
      "provenance": [],
      "include_colab_link": true
    },
    "kernelspec": {
      "display_name": "Python 3",
      "name": "python3"
    }
  },
  "nbformat": 4,
  "nbformat_minor": 0
}