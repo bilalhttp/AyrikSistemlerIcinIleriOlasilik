{
  "nbformat": 4,
  "nbformat_minor": 0,
  "metadata": {
    "colab": {
      "name": "Kosullu_Olasilik_Bayes.ipynb",
      "provenance": [],
      "collapsed_sections": [],
      "authorship_tag": "ABX9TyMz71vFiTderNEQQiG63xIh",
      "include_colab_link": true
    },
    "kernelspec": {
      "name": "python3",
      "display_name": "Python 3"
    },
    "language_info": {
      "name": "python"
    }
  },
  "cells": [
    {
      "cell_type": "markdown",
      "metadata": {
        "id": "view-in-github",
        "colab_type": "text"
      },
      "source": [
        "<a href=\"https://colab.research.google.com/github/bilalhttp/AyrikSistemlerIcinIleriOlasilik/blob/main/Kosullu_Olasilik_Bayes.ipynb\" target=\"_parent\"><img src=\"https://colab.research.google.com/assets/colab-badge.svg\" alt=\"Open In Colab\"/></a>"
      ]
    },
    {
      "cell_type": "markdown",
      "source": [
        "# Koşullu Olasılık Örneği"
      ],
      "metadata": {
        "id": "iumgCkM7OJDo"
      }
    },
    {
      "cell_type": "markdown",
      "source": [
        "**Soru:**"
      ],
      "metadata": {
        "id": "i-MgmgLrONro"
      }
    },
    {
      "cell_type": "markdown",
      "source": [
        "Bir zar atıldığında üste gelen sayının 2 den büyük olduğu bilindiğine göre, zarın üst yüzüne gelen sayının çift sayı olma olasılığı kaçtır?"
      ],
      "metadata": {
        "id": "E62fTdQXOQ0Z"
      }
    },
    {
      "cell_type": "markdown",
      "source": [
        "**Çözüm:**"
      ],
      "metadata": {
        "id": "lzKmF-vGOy3x"
      }
    },
    {
      "cell_type": "markdown",
      "source": [
        "\n",
        "\n",
        "- Evrensel küme => E = {1,2,3,4,5,6}\n",
        "- 2'den büyük olma olayı => A = {3,4,5,6}\n",
        "- Çift gelme olayı => B = {2,4,6}\n",
        "- A∩B = {4,6}\n",
        "- P(B\\A) = P(A∩B) / P(A)\n",
        "- P(B\\A) = 2/4 = 1/2\n",
        "\n",
        "\n"
      ],
      "metadata": {
        "id": "-Ra9Oe9gbZRy"
      }
    },
    {
      "cell_type": "code",
      "source": [
        "def Kosullu_Olasilik(kesisim,kosul):\n",
        " f = kesisim/kosul\n",
        " return f\n",
        "\n",
        "E= {1,2,3,4,5,6}\n",
        "A = {3,4,5,6}\n",
        "B = {2,4,6}\n",
        "AnB = {4,6}\n",
        "\n",
        "kesisim = len(AnB)\n",
        "kosul = len(A)\n",
        "\n",
        "print(\"P(B\\A) = \", Kosullu_Olasilik(kesisim,kosul))\n"
      ],
      "metadata": {
        "colab": {
          "base_uri": "https://localhost:8080/"
        },
        "id": "-1JLYaB4cTVn",
        "outputId": "503d745f-3869-4355-e2bf-e5d7b940c5ff"
      },
      "execution_count": null,
      "outputs": [
        {
          "output_type": "stream",
          "name": "stdout",
          "text": [
            "P(B\\A) =  0.5\n"
          ]
        }
      ]
    },
    {
      "cell_type": "markdown",
      "source": [
        "# Bayes Örneği"
      ],
      "metadata": {
        "id": "B7qlHv9henH0"
      }
    },
    {
      "cell_type": "markdown",
      "source": [
        "**Soru1:**"
      ],
      "metadata": {
        "id": "VSH8383JesLo"
      }
    },
    {
      "cell_type": "markdown",
      "source": [
        "Araştırmaya göre her 43 çocuktan 1 tanesi, yetişkinlikte ortaya çıkan belli bir hastalığa yakalanmakta ve tam güvenilir olmamasına rağmen yapılan test sonuçlarına göre, hastalıklı bir çocuğun testi %80 pozitif, sağlıklı bir çocuğun testi ise %10 pozitif sonuç vermektedir. Bu bilgilere göre test sonucu pozitif olan bir çocuğun gerçekten hasta olma olasılığı nedir?"
      ],
      "metadata": {
        "id": "8ILh6jPcewdl"
      }
    },
    {
      "cell_type": "markdown",
      "source": [
        "**Çözüm1:**"
      ],
      "metadata": {
        "id": "-cpCE2YUhh5p"
      }
    },
    {
      "cell_type": "markdown",
      "source": [
        "- P(A) : Çocuğun hasta olması olasılığı = 1/43\n",
        "- P(B) : Testin pozitif çıkması olasılığı = 1/43 * 0.80 + 42/43 * 0.10 = 5/43\n",
        "- P(A\\B) : Pozitif çıkan testin hastalık çıkma olasılığı\n",
        "- P(B\\A) : Hastalıklı çocuğun testinin pozitif çıkma olasılığı = 0.80\n",
        "\n",
        "- P(A\\B)=P(B\\A) * P(A)/P(B) => (0.80 * 1/43) / (5/43) = 0.16 = %16 bulunur."
      ],
      "metadata": {
        "id": "fA5GjnpYe6fa"
      }
    },
    {
      "cell_type": "code",
      "source": [
        "def Bayes(b_Fark_a, a, b):\n",
        "  return b_Fark_a * a / b\n",
        "\n",
        "pozitif_Olasilik = 0.8\n",
        "negatif_Olasilik = 0.1\n",
        "\n",
        "P_A = 1/43\n",
        "P_notA = 42/43\n",
        "P_B = P_A * pozitif_Olasilik + P_notA * negatif_Olasilik\n",
        "\n",
        "Bayes(0.8, P_A, P_B)\n"
      ],
      "metadata": {
        "colab": {
          "base_uri": "https://localhost:8080/"
        },
        "id": "1FYvxShEfNc-",
        "outputId": "71d440e6-b959-4c5d-8998-7fd86fcfe698"
      },
      "execution_count": 7,
      "outputs": [
        {
          "output_type": "execute_result",
          "data": {
            "text/plain": [
              "0.16"
            ]
          },
          "metadata": {},
          "execution_count": 7
        }
      ]
    },
    {
      "cell_type": "markdown",
      "source": [
        "**Soru2:**"
      ],
      "metadata": {
        "id": "eC1xwxOOhlQJ"
      }
    },
    {
      "cell_type": "markdown",
      "source": [
        " Bir atölyede imal edilen malların istenilen normlara uyan iyi bir mal olarak kabul edilme olasılığı, 0,96’dır. Yapılan bir teknik kontrol sistemine göre, iyi bir mal için, bunun iyi olduğunu ortaya çıkarma olasılığı 0,98 dir. Kötü olan bir malın iyi olduğu yolunda karar verme olasılığı 0,05’dir. İki kez yapılan çekime göre bir malın iyi olduğu sonucuna varıldığına göre, bu malın gerçekten iyi olma olasılığı nedir?"
      ],
      "metadata": {
        "id": "Rjv7_fFzhoIc"
      }
    },
    {
      "cell_type": "markdown",
      "source": [
        "**Çözüm2:**"
      ],
      "metadata": {
        "id": "qLzoJzg6ho7L"
      }
    },
    {
      "cell_type": "markdown",
      "source": [
        "- B1 : malı iyi kabul etme \n",
        "- B2 : malı kötü kabul etme \n",
        "- A: Malın iyi olması kararı \n",
        "- P(B1) = 0,96 \n",
        "- P(B2) = 0,04 \n",
        "- P(A/B1) = 0,98 \n",
        "- P(A/B2) =0,05\n",
        "\n",
        "- P(B1/A) = P(B1).P(A/B1) / (P(B1).P(A/B1) + P(B2).P(A/B2))\n",
        "- P(B1/A) = (0.96).(0.98) / ((0.96).(0.98) + (0.04).(0.05))\n",
        "- P(B1/A) = 0.99\n"
      ],
      "metadata": {
        "id": "_eCAdseChsyK"
      }
    },
    {
      "cell_type": "code",
      "source": [
        "def Bayes2(a_Fark_b1, a_fark_b2, b1, b2):\n",
        "  return b1*a_Fark_b1 / (b1*a_Fark_b1 + b2*a_fark_b2)\n",
        "\n",
        "P_B1 = 0.96\n",
        "P_B2 = 0.04\n",
        "P_a_fark_b1 = 0.98\n",
        "P_a_fark_b2 = 0.05\n",
        "\n",
        "Bayes2(P_a_fark_b1, P_a_fark_b2, P_B1, P_B2)"
      ],
      "metadata": {
        "colab": {
          "base_uri": "https://localhost:8080/"
        },
        "id": "rgiFpn52jMV4",
        "outputId": "934ae033-3801-4384-8fc7-a7337f1ed76f"
      },
      "execution_count": 9,
      "outputs": [
        {
          "output_type": "execute_result",
          "data": {
            "text/plain": [
              "0.9978786593126856"
            ]
          },
          "metadata": {},
          "execution_count": 9
        }
      ]
    }
  ]
}