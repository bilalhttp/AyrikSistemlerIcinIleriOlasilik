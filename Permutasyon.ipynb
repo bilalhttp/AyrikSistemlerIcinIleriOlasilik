{
  "nbformat": 4,
  "nbformat_minor": 0,
  "metadata": {
    "colab": {
      "name": "Permutasyon.ipynb",
      "provenance": [],
      "collapsed_sections": [],
      "authorship_tag": "ABX9TyPGBnYZCJ1UoI0niJ4kOzan",
      "include_colab_link": true
    },
    "kernelspec": {
      "name": "python3",
      "display_name": "Python 3"
    },
    "language_info": {
      "name": "python"
    }
  },
  "cells": [
    {
      "cell_type": "markdown",
      "metadata": {
        "id": "view-in-github",
        "colab_type": "text"
      },
      "source": [
        "<a href=\"https://colab.research.google.com/github/bilalhttp/AyrikSistemlerIcinIleriOlasilik/blob/main/Permutasyon.ipynb\" target=\"_parent\"><img src=\"https://colab.research.google.com/assets/colab-badge.svg\" alt=\"Open In Colab\"/></a>"
      ]
    },
    {
      "cell_type": "markdown",
      "source": [
        "**Soru:**"
      ],
      "metadata": {
        "id": "BON0iv4qdZEf"
      }
    },
    {
      "cell_type": "markdown",
      "source": [
        "Girilen karakterlerden anlamlı ya da anlamsız oluşturulabilecek kelimeleri bulan fonksiyon"
      ],
      "metadata": {
        "id": "BU2dpL6TdeWt"
      }
    },
    {
      "cell_type": "code",
      "source": [
        "def permutation(givenList):\n",
        "  \n",
        "    if len(givenList) == 0:\n",
        "        return []\n",
        "  \n",
        "    if len(givenList) == 1:\n",
        "        return [givenList]\n",
        "   \n",
        "    permutaionList = []  \n",
        " \n",
        "    for i in range(len(givenList)):\n",
        "       copyList = givenList[i]\n",
        " \n",
        "       remainingList = givenList[:i] + givenList[i+1:]\n",
        "  \n",
        "       for p in permutation(remainingList):\n",
        "           permutaionList.append([copyList] + p)\n",
        "\n",
        "    return permutaionList"
      ],
      "metadata": {
        "id": "4AgW6PpAr7Ft"
      },
      "execution_count": null,
      "outputs": []
    },
    {
      "cell_type": "code",
      "source": [
        "data = list('abcd')\n",
        "perList = permutation(data)\n",
        "for p in perList:\n",
        "    print (p)"
      ],
      "metadata": {
        "colab": {
          "base_uri": "https://localhost:8080/"
        },
        "id": "gnb4eQkO77Hw",
        "outputId": "d324b252-ae8a-43ea-f2bd-b3511dc2f72d"
      },
      "execution_count": null,
      "outputs": [
        {
          "output_type": "stream",
          "name": "stdout",
          "text": [
            "['a', 'b', 'c', 'd']\n",
            "['a', 'b', 'd', 'c']\n",
            "['a', 'c', 'b', 'd']\n",
            "['a', 'c', 'd', 'b']\n",
            "['a', 'd', 'b', 'c']\n",
            "['a', 'd', 'c', 'b']\n",
            "['b', 'a', 'c', 'd']\n",
            "['b', 'a', 'd', 'c']\n",
            "['b', 'c', 'a', 'd']\n",
            "['b', 'c', 'd', 'a']\n",
            "['b', 'd', 'a', 'c']\n",
            "['b', 'd', 'c', 'a']\n",
            "['c', 'a', 'b', 'd']\n",
            "['c', 'a', 'd', 'b']\n",
            "['c', 'b', 'a', 'd']\n",
            "['c', 'b', 'd', 'a']\n",
            "['c', 'd', 'a', 'b']\n",
            "['c', 'd', 'b', 'a']\n",
            "['d', 'a', 'b', 'c']\n",
            "['d', 'a', 'c', 'b']\n",
            "['d', 'b', 'a', 'c']\n",
            "['d', 'b', 'c', 'a']\n",
            "['d', 'c', 'a', 'b']\n",
            "['d', 'c', 'b', 'a']\n"
          ]
        }
      ]
    }
  ]
}