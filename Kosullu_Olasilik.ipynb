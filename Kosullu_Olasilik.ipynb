{
  "nbformat": 4,
  "nbformat_minor": 0,
  "metadata": {
    "colab": {
      "name": "Kosullu_Olasilik.ipynb",
      "provenance": [],
      "authorship_tag": "ABX9TyNrkqalwCHEexUq3Mn9Yksm",
      "include_colab_link": true
    },
    "kernelspec": {
      "name": "python3",
      "display_name": "Python 3"
    },
    "language_info": {
      "name": "python"
    }
  },
  "cells": [
    {
      "cell_type": "markdown",
      "metadata": {
        "id": "view-in-github",
        "colab_type": "text"
      },
      "source": [
        "<a href=\"https://colab.research.google.com/github/bilalhttp/AyrikSistemlerIcinIleriOlasilik/blob/main/Kosullu_Olasilik.ipynb\" target=\"_parent\"><img src=\"https://colab.research.google.com/assets/colab-badge.svg\" alt=\"Open In Colab\"/></a>"
      ]
    },
    {
      "cell_type": "markdown",
      "source": [
        "# Koşullu Olasılık Örneği"
      ],
      "metadata": {
        "id": "iumgCkM7OJDo"
      }
    },
    {
      "cell_type": "markdown",
      "source": [
        "**Soru:**"
      ],
      "metadata": {
        "id": "i-MgmgLrONro"
      }
    },
    {
      "cell_type": "markdown",
      "source": [
        "Bir zar atıldığında üste gelen sayının 2 den büyük olduğu bilindiğine göre, zarın üst yüzüne gelen sayının çift sayı olma olasılığı kaçtır?"
      ],
      "metadata": {
        "id": "E62fTdQXOQ0Z"
      }
    },
    {
      "cell_type": "markdown",
      "source": [
        "**Çözüm:**"
      ],
      "metadata": {
        "id": "lzKmF-vGOy3x"
      }
    },
    {
      "cell_type": "markdown",
      "source": [
        "\n",
        "\n",
        "- Evrensel küme => E = {1,2,3,4,5,6}\n",
        "- 2'den büyük olma olayı => A = {3,4,5,6}\n",
        "- Çift gelme olayı => B = {2,4,6}\n",
        "- A∩B = {4,6}\n",
        "- P(B\\A) = P(A∩B) / P(A)\n",
        "- P(B\\A) = 2/4 = 1/2\n",
        "\n",
        "\n"
      ],
      "metadata": {
        "id": "-Ra9Oe9gbZRy"
      }
    },
    {
      "cell_type": "code",
      "source": [
        "def Kosullu_Olasilik(kesisim,kosul):\n",
        " f = kesisim/kosul\n",
        " return f\n",
        "\n",
        "E= {1,2,3,4,5,6}\n",
        "A = {3,4,5,6}\n",
        "B = {2,4,6}\n",
        "AnB = {4,6}\n",
        "\n",
        "kesisim = len(AnB)\n",
        "kosul = len(A)\n",
        "\n",
        "print(\"P(B\\A) = \", Kosullu_Olasilik(kesisim,kosul))\n"
      ],
      "metadata": {
        "colab": {
          "base_uri": "https://localhost:8080/"
        },
        "id": "-1JLYaB4cTVn",
        "outputId": "503d745f-3869-4355-e2bf-e5d7b940c5ff"
      },
      "execution_count": 6,
      "outputs": [
        {
          "output_type": "stream",
          "name": "stdout",
          "text": [
            "P(B\\A) =  0.5\n"
          ]
        }
      ]
    },
    {
      "cell_type": "code",
      "source": [
        ""
      ],
      "metadata": {
        "id": "9z56PVh7dIUs"
      },
      "execution_count": null,
      "outputs": []
    }
  ]
}